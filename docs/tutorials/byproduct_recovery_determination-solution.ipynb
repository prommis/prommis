{
 "cells": [
  {
   "attachments": {},
   "cell_type": "markdown",
   "id": "0a29c413-0a01-4f16-bf26-29a60dae142a",
   "metadata": {},
   "source": [
    "# __Byproduct Recovery Framework Tutorial__\n",
    "\n",
    "The purpose of this tutorial is to introduce the __byproduct recovery decision framework__ (hereafter referenced to as _the framework_), which is defined in ``determine_byproduct_recovery.py``.The framework assesses the economic viability of converting waste streams into saleable byproducts based on a known viability criterion. This framework serves as a decision-support tool for determining whether specific byproducts should be recovered. \n",
    "\n",
    "This tutorial gives an example of how to use the framework to determine if lithium and cobalt should be recovered from a diafiltration process. This framework can be generalized to other recoverable byproducts if appropriate pricing data is provided. \n",
    "\n",
    "To evaluate byproduct recovery, annualized net benefit is assessed with the following equations:\n",
    "$$\n",
    "\\text{net\\_benefit} = \\text{potential\\_revenue} - \\text{total\\_recovery\\_cost}\n",
    "$$\n",
    "\n",
    "$$\n",
    "\\text{potential\\_revenue} = \\sum_{m} \\left( \n",
    "\\text{material\\_production}_{m} \\cdot \\text{market\\_value}_{m} + \n",
    "\\text{avoided\\_waste\\_disposal\\_cost}_{m} \\right)\n",
    "$$\n",
    "\n",
    "$$\n",
    "\\text{total\\_recovery\\_cost} = \\sum_{m} \\left( \n",
    "\\text{conversion\\_cost}_{m} \\cdot \\text{conversion\\_possible}_{m} + \n",
    "\\text{added\\_process\\_cost}_{m} \\cdot \\text{added\\_process\\_steps}_{m} \\right)\n",
    "$$\n",
    "\n",
    "**Definitions of Variables:**\n",
    "\n",
    "- `material_productionₘ`: Mass flow rate of recovered byproduct *m* (kg/yr).\n",
    "- `market_valueₘ`: Market price of byproduct *m* (USD/kg).\n",
    "- `avoided_waste_disposal_costₘ`: Avoided disposal cost for byproduct *m* (USD/kg).\n",
    "- `conversion_costₘ`: Annualized cost (considering both CAPEX and OPEX) of the recovery process for byproduct *m* (USD/yr).\n",
    "- `conversion_possibleₘ`: Binary indicator for whether conversion is required for byproduct *m* (1 = required, 0 = not required).\n",
    "- `added_process_costₘ`: Annualized cost (considering both CAPEX and OPEX) of additional process units for recovering byproduct *m* (USD/yr).\n",
    "- `added_process_stepsₘ`: Binary indicator for whether additional process units are required for recovering byproduct *m* (1 = required, 0 not required).\n",
    "\n",
    "To use the byproduct recovery framework effectively, a byproduct recovery process with costing must already be constructed. To learn the basics of the REE Costing Framework, please refer to [the tutorial on basic costing features in PrOMMiS](costing_basic_features.ipynb). This is necessary to determine the __annualized cost__ and __annual revenue__ associated with recovery. Once the process model is built, users can import it—along with its corresponding cost and revenue—and apply the byproduct recovery framework to decide whether or not the byproduct should be recovered.\n",
    "\n",
    "__Learning Objectives__: By the end of this tutorial, users will be able to:\n",
    "- Decide and import the necessary Python packages\n",
    "- Build a process flowsheet using a case study: __lithium-cobalt recovery via diafiltration__\n",
    "- Apply the __byproduct recovery decision framework__"
   ]
  },
  {
   "cell_type": "markdown",
   "id": "d56a0147-4343-4ebf-8dc1-b7eb004b455b",
   "metadata": {},
   "source": [
    "## __Step 1: Import the Necessary Packages__\n",
    "\n",
    "First, import the necessary Pyomo, IDAES, and PrOMMiS packages. These will be implemented at various stages throughout the tutorial.\n",
    "\n",
    "__Package Purposes:__\n",
    "- Pyomo: Used for model construction and optimization.\n",
    "\n",
    "- IDAES: While not essential for this specific tutorial, IDAES models can support model testing and validation.\n",
    "\n",
    "- PrOMMiS:\n",
    "\n",
    "    - ``prommis.nanofiltration.diafiltration``: Used to build the lithium-cobalt diafiltration recovery process model.\n",
    "\n",
    "    - ``prommis.uky.costing.costing_dictionaries``: Provides product pricing data.\n",
    "\n",
    "    - ``prommis.uky.costing.determine_byproduct_recovery``: Implements the byproduct recovery decision framework.\n",
    " \n",
    "For guidance on installing these packages, please refer to the Package Installation section at the end of the tutorial."
   ]
  },
  {
   "cell_type": "code",
   "execution_count": 1,
   "id": "ba3193ce-0e23-44d0-a28a-959efe0acb48",
   "metadata": {},
   "outputs": [
    {
     "ename": "ModuleNotFoundError",
     "evalue": "No module named 'pyomo'",
     "output_type": "error",
     "traceback": [
      "\u001b[31m---------------------------------------------------------------------------\u001b[39m",
      "\u001b[31mModuleNotFoundError\u001b[39m                       Traceback (most recent call last)",
      "\u001b[36mCell\u001b[39m\u001b[36m \u001b[39m\u001b[32mIn[1]\u001b[39m\u001b[32m, line 2\u001b[39m\n\u001b[32m      1\u001b[39m \u001b[38;5;66;03m# Pyomo packages\u001b[39;00m\n\u001b[32m----> \u001b[39m\u001b[32m2\u001b[39m \u001b[38;5;28;01mfrom\u001b[39;00m\u001b[38;5;250m \u001b[39m\u001b[34;01mpyomo\u001b[39;00m\u001b[34;01m.\u001b[39;00m\u001b[34;01menviron\u001b[39;00m\u001b[38;5;250m \u001b[39m\u001b[38;5;28;01mimport\u001b[39;00m (\n\u001b[32m      3\u001b[39m     ConcreteModel,\n\u001b[32m      4\u001b[39m     Expression,\n\u001b[32m      5\u001b[39m     Param,\n\u001b[32m      6\u001b[39m     TransformationFactory,\n\u001b[32m      7\u001b[39m     Var,\n\u001b[32m      8\u001b[39m     value,\n\u001b[32m      9\u001b[39m )\n\u001b[32m     11\u001b[39m \u001b[38;5;66;03m# IDAES packages\u001b[39;00m\n\u001b[32m     12\u001b[39m \u001b[38;5;28;01mfrom\u001b[39;00m\u001b[38;5;250m \u001b[39m\u001b[34;01midaes\u001b[39;00m\u001b[34;01m.\u001b[39;00m\u001b[34;01mcore\u001b[39;00m\u001b[34;01m.\u001b[39;00m\u001b[34;01mutil\u001b[39;00m\u001b[34;01m.\u001b[39;00m\u001b[34;01mmodel_diagnostics\u001b[39;00m\u001b[38;5;250m \u001b[39m\u001b[38;5;28;01mimport\u001b[39;00m DiagnosticsToolbox\n",
      "\u001b[31mModuleNotFoundError\u001b[39m: No module named 'pyomo'"
     ]
    }
   ],
   "source": [
    "# Pyomo packages\n",
    "from pyomo.environ import (\n",
    "    ConcreteModel,\n",
    "    Expression,\n",
    "    Param,\n",
    "    TransformationFactory,\n",
    "    Var,\n",
    "    value,\n",
    ")\n",
    "\n",
    "# IDAES packages\n",
    "from idaes.core.util.model_diagnostics import DiagnosticsToolbox\n",
    "from idaes.core.util.model_statistics import degrees_of_freedom\n",
    "\n",
    "import pytest\n",
    "\n",
    "# PrOMMiS packages\n",
    "from prommis.nanofiltration.diafiltration import (\n",
    "    main,\n",
    "    add_costing,\n",
    "    add_objective,\n",
    "    add_product_constraints,\n",
    "    build_model,\n",
    "    initialize_model,\n",
    "    print_information,\n",
    "    set_scaling,\n",
    "    solve_model,\n",
    "    unfix_opt_variables,\n",
    ")\n",
    "from prommis.uky.costing.costing_dictionaries import load_default_sale_prices\n",
    "from prommis.uky.costing.determine_byproduct_recovery import (\n",
    "    ByproductRecovery,\n",
    "    determine_example_usage,\n",
    ")"
   ]
  },
  {
   "cell_type": "markdown",
   "id": "25e63a3d-d488-4cd7-9f34-1199a051b851",
   "metadata": {},
   "source": [
    "## __Step 2: Building on the Pre-defined Diafiltration Process__\n",
    "\n",
    "This section gives a brief introduction of how to build upon the pre-defined diafiltration process model. The lithium-cobalt diafiltration process is implemented in the file [diafiltration.py](https://github.com/prommis/prommis/blob/main/src/prommis/nanofiltration/diafiltration.py), available in the PrOMMiS repository. \n",
    "\n",
    "To construct a process flowsheet using this existing model, users can refer to the detailed walkthrough provided in the [Multi_Stream Contactor Tutorial (Solution)](https://github.com/prommis/prommis/blob/main/docs/tutorials/diafiltration-solution.ipynb). This tutorial outlines the major steps for building the flowsheet. \n",
    "\n",
    "To determine whether lithium and cobalt should be recovered, the user first needs to __build the diafiltration process__ and __access the cost and revenue__.\n",
    "\n",
    "Refer to the process model defined in ``diafiltration.py``. Specifically, call the functions in the order specified within the ``main()`` function. Following this order is crucial because the diafiltration process consists of three membrane stages, and the model is built stage by stage. \n",
    "\n",
    "During each stage of model building, initialization is performed with a set of variables fixed. When transitioning to the next stage, previously fixed variables must be unfixed, and new variables need to be fixed for the current stage. This sequential initialization ensures that the model is stable and properly configured at each membrane stage.\n",
    "\n",
    "The production rates of lithium and cobalt from the diafiltration process are expressed in kilograms per hour (kg/hr). Assuming the plant operates 8,000 hours annually, the annual production of lithium and cobalt can be calculated by multiplying the hourly production rates by 8,000 hr/yr.\n",
    "\n",
    "Note that the code may generate warnings related to volumetric flow being temporarily set to zero during initialization—values that fall outside the predefined variable bounds. These warnings do not affect model performance and can be safely ignored."
   ]
  },
  {
   "cell_type": "code",
   "execution_count": null,
   "id": "65a60bef-f979-4021-91e6-a1bc6a146e6a",
   "metadata": {},
   "outputs": [],
   "source": [
    "# Build and solve the model\n",
    "m = build_model()\n",
    "add_costing(m)\n",
    "initialize_model(m)\n",
    "solve_model(m)\n",
    "\n",
    "unfix_opt_variables(m)\n",
    "add_product_constraints(m, Li_recovery_bound=0.95, Co_recovery_bound=0.635)\n",
    "add_objective(m)\n",
    "set_scaling(m)\n",
    "scaling = TransformationFactory(\"core.scale_model\")\n",
    "scaled_model = scaling.create_using(m, rename=False)\n",
    "solve_model(scaled_model)\n",
    "# Propagate results back to unscaled model\n",
    "scaling.propagate_solution(scaled_model, m)\n",
    "\n",
    "# Store results for later application in the framework\n",
    "total_annualized_cost = value(m.fs.costing.total_annualized_cost)\n",
    "\n",
    "# recovery mass flow rate annually: kg/hr * 8000 hr/yr\n",
    "Li_recovery_mass = value(m.fs.stage3.permeate_outlet.flow_vol[0]) * value(\n",
    "    m.fs.stage3.permeate_outlet.conc_mass_solute[0, \"Li\"] * 8000\n",
    ")\n",
    "Co_recovery_mass = value(m.fs.stage1.retentate_outlet.flow_vol[0]) * value(\n",
    "    m.fs.stage1.retentate_outlet.conc_mass_solute[0, \"Co\"] * 8000\n",
    ")"
   ]
  },
  {
   "cell_type": "markdown",
   "id": "aee9d6e8-e333-47e3-91bf-80bbb40e8355",
   "metadata": {},
   "source": [
    "## __Step 3: Test the Byproduct Recovery Framework__\n",
    "\n",
    "Now that the model is solved, the next task is to calculate the __cost__ and evaluate __economic feasibility__. \n",
    "\n",
    "__3.1. Specify Product Prices__\n",
    "\n",
    "Product prices are defined in [costing_dictionaries.py](https://github.com/prommis/workspace/blob/main/prommis_workspace/UKy_flowsheet/costing/costing_dictionaries.py). Users can access the default sale prices via ``load_default_sale_prices()`` function, as shown below:"
   ]
  },
  {
   "cell_type": "code",
   "execution_count": null,
   "id": "dd13f5b4-1ceb-4755-a220-950708a60bff",
   "metadata": {},
   "outputs": [],
   "source": [
    "sale_prices = load_default_sale_prices()\n",
    "Li_price = sale_prices[\"Li\"]\n",
    "Co_price = sale_prices[\"Co\"]"
   ]
  },
  {
   "cell_type": "markdown",
   "id": "e82adab5-7e30-448c-b7ca-f0000e2265e6",
   "metadata": {},
   "source": [
    "Alternatively, users may specify custom sale prices by manually replacing the right-hand side values of the price expressions.\n",
    "\n",
    "These prices will be used to compute __annual revenue__, which is a key input to the byproduct recovery decision framework.\n",
    "\n",
    "__3.2. Introduce the Framework and Specify the Product Outputs__\n",
    "\n",
    "Next, introduce the byproduct recovery framework and specify the target products recovered from the diafiltration process.\n",
    "\n",
    "The __byproduct recovery framework__ accepts user inputs, where products are listed in a structure called ``material_list``, and their associated data (e.g. flow rate, price) are organized in a dictionary called ``material_data``.\n",
    "- ``material_list``: A list of product names (strings).\n",
    "- ``material_data``: A dictionary where each key corresponds to a product name and maps to its properties such as flow rate and price.\n",
    "\n",
    "This structured input will be passed into the byproduct recovery decision framework to assess economic viability."
   ]
  },
  {
   "cell_type": "code",
   "execution_count": null,
   "id": "a99db64a-b1b2-4287-a46b-b20d58149143",
   "metadata": {},
   "outputs": [],
   "source": [
    "# The framework take user input\n",
    "material_list = [\"Lithium\", \"Cobalt\"]\n",
    "\n",
    "# Introduce the byproduct recovery framework\n",
    "model = ConcreteModel()\n",
    "model.recovery_determine = ByproductRecovery(materials=material_list)\n",
    "\n",
    "# Define input values based on provided materials\n",
    "material_data = {\n",
    "    \"Lithium\": {\n",
    "        \"production\": Li_recovery_mass,\n",
    "        \"market_value\": Li_price,\n",
    "        \"waste_disposal\": 1,\n",
    "        \"conversion\": 0,\n",
    "        \"conversion_cost\": 0,\n",
    "        \"process_steps\": 1,\n",
    "        \"process_cost\": total_annualized_cost,\n",
    "    },\n",
    "    \"Cobalt\": {\n",
    "        \"production\": Co_recovery_mass,\n",
    "        \"market_value\": Co_price,\n",
    "        \"waste_disposal\": 1,\n",
    "        \"conversion\": 0,\n",
    "        \"conversion_cost\": 0,\n",
    "        \"process_steps\": 0,\n",
    "        \"process_cost\": 0,\n",
    "    },\n",
    "}"
   ]
  },
  {
   "cell_type": "markdown",
   "id": "6b574794-d81e-4346-a370-517b6fec921c",
   "metadata": {},
   "source": [
    "__3.3. Set Additional Parameters and Evaluate Net Benefit__\n",
    "\n",
    "To evaluate the economic feasibility, we must define additional parameters for each product:\n",
    "\n",
    "- ``\"waste_disposal\"``: Set to ``1`` to indicate that waste disposal costs are considered.\n",
    "\n",
    "- ``\"conversion\"``: Set to ``0`` if no conversion process is required to recover the material.\n",
    "\n",
    "- ``\"conversion_cost\"``: Set to ``0`` when conversion is not needed.\n",
    "\n",
    "- ``\"process_steps\"``: Set to ``0`` if no additional steps are needed beyond the current recovery process.\n",
    "\n",
    "In this case, the lithium–cobalt diafiltration plant recovers __both lithium and cobalt in a single process__. No additional purification or recovery steps are considered for either product. As such:\n",
    "\n",
    "- The __process cost__ is only accounted for once under ``\"Lithium\"`` production (though it could alternatively be placed under ``\"Cobalt\"`` with no impact on results).\n",
    "\n",
    "- __Both products are assumed to be sold at market prices__, regardless of purity level."
   ]
  },
  {
   "cell_type": "code",
   "execution_count": null,
   "id": "ebd123f3-1723-45ce-82ae-a38bb58b2a76",
   "metadata": {},
   "outputs": [],
   "source": [
    "# Set values based on material list\n",
    "for m in material_list:\n",
    "    data = material_data.get(m, {})\n",
    "    model.recovery_determine.material_production[m].set_value(data.get(\"production\", 0))\n",
    "    model.recovery_determine.market_value[m].set_value(data.get(\"market_value\", 0))\n",
    "    model.recovery_determine.waste_disposal_cost[m].set_value(\n",
    "        data.get(\"waste_disposal\", 0)\n",
    "    )\n",
    "    model.recovery_determine.conversion_possible[m].set_value(data.get(\"conversion\", 0))\n",
    "    model.recovery_determine.conversion_cost[m].set_value(\n",
    "        data.get(\"conversion_cost\", 0)\n",
    "    )\n",
    "    model.recovery_determine.added_process_steps[m].set_value(\n",
    "        data.get(\"process_steps\", 0)\n",
    "    )\n",
    "    model.recovery_determine.added_process_cost[m].set_value(\n",
    "        data.get(\"process_cost\", 0)\n",
    "    )"
   ]
  },
  {
   "cell_type": "markdown",
   "id": "3e498167-701d-47d8-818a-7ea61e2b658b",
   "metadata": {},
   "source": [
    "> 💡 **Note:** The `0` in `data.get(\"production\", 0)` does not mean zero production. \n",
    "It indicates that the production rate is assumed to be **steady-state** (i.e., constant over time), not time-varying."
   ]
  },
  {
   "cell_type": "markdown",
   "id": "60b36aa7-260b-43a9-9438-8e3442675cb6",
   "metadata": {},
   "source": [
    "__3.4. Calculate the Overall Net Benefit__\n",
    "\n",
    "With parameters such as production rate, market price, and associated costs specified for each product, the byproduct recovery framework can now be implemented to quantify the overall net benefit.\n",
    "\n",
    "The __overall net benefit__ is used to determine profitability:\n",
    "\n",
    "- If ``net_benefit_value`` > 0 → The byproduct recovery process is __profitable__.\n",
    "\n",
    "- If ``net_benefit_value`` ≤ 0 → The process is __not profitable__."
   ]
  },
  {
   "cell_type": "code",
   "execution_count": null,
   "id": "e45cd98d-0315-4cf4-a02e-c7a2537053c7",
   "metadata": {},
   "outputs": [],
   "source": [
    "potential_revenue = value(model.recovery_determine.potential_revenue)\n",
    "assert potential_revenue >= 0, \"Potential revenue should be non-negative.\"\n",
    "\n",
    "determine_result = model.recovery_determine.determine_financial_viability()\n",
    "assert isinstance(\n",
    "    determine_result, str\n",
    "), f\"Expected a string message, but got {type(determine_result)}\"\n",
    "\n",
    "net_benefit_value = value(model.recovery_determine.net_benefit)\n",
    "assert net_benefit_value == pytest.approx(320373532.81, rel=1e-4)\n",
    "\n",
    "# Check the output string for financial viability\n",
    "print(\"\\n--- Byproduct Recovery Decision ---\")\n",
    "print(determine_result)"
   ]
  },
  {
   "cell_type": "markdown",
   "id": "eced77f7-ccb4-401e-94b7-7dbf68e97672",
   "metadata": {},
   "source": [
    "> ✅ **Note:** The `assert` statements are included to verify that the model is built as expected.  \n",
    "> They are helpful for testing and debugging, but **not required** for using the byproduct recovery framework."
   ]
  },
  {
   "cell_type": "markdown",
   "id": "d653a011-c4df-4f34-8bb2-71aa8ca52b19",
   "metadata": {},
   "source": [
    "## __Package Installation__\n",
    "\n",
    "As mentioned previously, Pyomo, IDAES, and PrOMMiS packages are necessary to use the framework. If these packages are not installed, this may be done using the following commands in Anaconda Prompt:"
   ]
  },
  {
   "cell_type": "raw",
   "id": "a1dea7d7-e0ab-4556-82ec-c720023ce0c0",
   "metadata": {},
   "source": [
    "pip install pyomo\n",
    "pip install idaes-pse"
   ]
  },
  {
   "cell_type": "markdown",
   "id": "e401b8b4-fce4-4b85-bb98-f00614750a1b",
   "metadata": {},
   "source": [
    "For more detailed installation instructions, refer to the respective ``README.md`` files for [Pyomo](https://github.com/Pyomo/pyomo/blob/main/README.md), [IDAES](https://github.com/IDAES/idaes-pse/blob/main/README.md), and [ProMMiS](https://github.com/prommis/prommis/blob/main/README.md)."
   ]
  },
  {
   "cell_type": "code",
   "execution_count": null,
   "id": "71aa5802-428e-46e4-824a-df83b3befa89",
   "metadata": {},
   "outputs": [],
   "source": []
  }
 ],
 "metadata": {
  "kernelspec": {
   "display_name": "Python 3 (ipykernel)",
   "language": "python",
   "name": "python3"
  },
  "language_info": {
   "codemirror_mode": {
    "name": "ipython",
    "version": 3
   },
   "file_extension": ".py",
   "mimetype": "text/x-python",
   "name": "python",
   "nbconvert_exporter": "python",
   "pygments_lexer": "ipython3",
   "version": "3.11.13"
  }
 },
 "nbformat": 4,
 "nbformat_minor": 5
}
